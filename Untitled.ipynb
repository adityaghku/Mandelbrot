{
 "cells": [
  {
   "cell_type": "code",
   "execution_count": 1,
   "metadata": {},
   "outputs": [],
   "source": [
    "import numpy as np\n",
    "import matplotlib.pyplot as plt\n",
    "\n",
    "\n",
    "class complex:\n",
    "\n",
    "\tdef __init__(z,x,y):\n",
    "\t\tz.x = x\n",
    "\t\tz.y = y\n",
    "\n",
    "\tdef square(z):\n",
    "\t\treturn complex(z.x**2 - z.y**2, 2*z.x*z.y)\n",
    "\n",
    "\tdef abs(z):\n",
    "\t\treturn abs(np.sqrt(z.x**2 + z.y**2))\n"
   ]
  },
  {
   "cell_type": "code",
   "execution_count": 2,
   "metadata": {},
   "outputs": [],
   "source": [
    "max = 5000\n",
    "\n",
    "img = np.full((max,max),255)\n",
    "\n",
    "x = list()\n",
    "y = list()\n",
    "\n",
    "for i in range(max):\n",
    "        x.append(-2 + i*4/max)\n",
    "        y.append(-2 + i*4/max)"
   ]
  },
  {
   "cell_type": "code",
   "execution_count": null,
   "metadata": {},
   "outputs": [],
   "source": [
    "for i in range(max):\n",
    "        for j in range(max):\n",
    "                \n",
    "                c = complex(x[i],x[j])\n",
    "                z = complex(0,0)\n",
    "                \n",
    "                iter = 255\n",
    "                \n",
    "                for k in range(iter):\n",
    "                        \n",
    "                        temp = z.square()\n",
    "                        z = complex(temp.x + c.x, temp.y + c.y)\n",
    "                        \n",
    "                        if z.abs() > 2:\n",
    "                                break\n",
    "\n",
    "                img[j][i] = 255 - k\n",
    "\n",
    "\n",
    "plt.imshow(img, cmap=\"plasma\")\n",
    "plt.axis(\"off\")\n",
    "plt.show()"
   ]
  },
  {
   "cell_type": "code",
   "execution_count": null,
   "metadata": {},
   "outputs": [],
   "source": []
  }
 ],
 "metadata": {
  "kernelspec": {
   "display_name": "Python 3",
   "language": "python",
   "name": "python3"
  },
  "language_info": {
   "codemirror_mode": {
    "name": "ipython",
    "version": 3
   },
   "file_extension": ".py",
   "mimetype": "text/x-python",
   "name": "python",
   "nbconvert_exporter": "python",
   "pygments_lexer": "ipython3",
   "version": "3.8.6"
  }
 },
 "nbformat": 4,
 "nbformat_minor": 4
}
